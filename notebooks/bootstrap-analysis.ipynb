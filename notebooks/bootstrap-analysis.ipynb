{
 "cells": [
  {
   "cell_type": "code",
   "execution_count": null,
   "metadata": {},
   "outputs": [],
   "source": [
    "import numpy as np\n",
    "import seaborn as sns\n",
    "import matplotlib.pyplot as plt\n",
    "\n",
    "%matplotlib inline\n",
    "plt.rcParams[\"figure.figsize\"] = (15,10)"
   ]
  },
  {
   "cell_type": "markdown",
   "metadata": {},
   "source": [
    "## Reading results of bootsrap simulations"
   ]
  },
  {
   "cell_type": "code",
   "execution_count": null,
   "metadata": {},
   "outputs": [],
   "source": [
    "file_path = 'result_bootstrap_pipeline.txt'\n",
    "\n",
    "res_dict = {\n",
    "    'regex': {'f1': [], 'auc': [], 'tn': [], 'tp': [], 'fn': [], 'fp': [], 'fpr': [], 'tpr': []},\n",
    "    'lgbm': {'f1': [], 'auc': [], 'tn': [], 'tp': [], 'fn': [], 'fp': [], 'fpr': [], 'tpr': []},\n",
    "    'lgbm + regex': {'f1': [], 'auc': [], 'tn': [], 'tp': [], 'fn': [], 'fp': [], 'fpr': [], 'tpr': []},\n",
    "    'random_forests': {'f1': [], 'auc': [], 'tn': [], 'tp': [], 'fn': [], 'fp': [], 'fpr': [], 'tpr': []},\n",
    "    'svm': {'f1': [], 'auc': [], 'tn': [], 'tp': [], 'fn': [], 'fp': [], 'fpr': [], 'tpr': []},\n",
    "    'logit': {'f1': [], 'auc': [], 'tn': [], 'tp': [], 'fn': [], 'fp': [], 'fpr': [], 'tpr': []}\n",
    "}"
   ]
  },
  {
   "cell_type": "code",
   "execution_count": null,
   "metadata": {},
   "outputs": [],
   "source": [
    "file_path = \"result_bootstrap.txt\"\n",
    "\n",
    "with open(file_path, 'r') as file:\n",
    "    for cnt, line in enumerate(file):\n",
    "        ss = line.split('\\t')\n",
    "        model = ss[0]\n",
    "        res_dict[model]['f1'].append(float(ss[1]))\n",
    "        res_dict[model]['tn'].append(int(ss[2]))\n",
    "        res_dict[model]['tp'].append(int(ss[3]))\n",
    "        res_dict[model]['fn'].append(int(ss[4]))\n",
    "        res_dict[model]['fp'].append(int(ss[5]))\n",
    "        res_dict[model]['auc'].append(float(ss[6]))\n",
    "        res_dict[model]['fpr'].append(ss[8])\n",
    "        res_dict[model]['tpr'].append(ss[10])"
   ]
  },
  {
   "cell_type": "markdown",
   "metadata": {},
   "source": [
    "## Computing the CI for the metrics of interest"
   ]
  },
  {
   "cell_type": "code",
   "execution_count": null,
   "metadata": {},
   "outputs": [],
   "source": [
    "metrics = ['f1', 'auc', 'tn', 'tp', 'fn', 'fp']\n",
    "medians = {}\n",
    "icmin = {}\n",
    "icmax = {}\n",
    "for model in res_dict.keys():\n",
    "    try:\n",
    "        print(model)\n",
    "        for metric in metrics:\n",
    "            print('\\t', metric, ': ', np.percentile(res_dict[model][metric], [2.5, 50, 97.5]))\n",
    "        icmin[model], medians[model],icmax[model] = np.percentile(res_dict[model]['auc'], [2.5, 50, 97.5])\n",
    "    except:\n",
    "        print('Missing results for '+model)"
   ]
  },
  {
   "cell_type": "markdown",
   "metadata": {},
   "source": [
    "## Plotting the median ROC curves"
   ]
  },
  {
   "cell_type": "code",
   "execution_count": null,
   "metadata": {},
   "outputs": [],
   "source": [
    "plt.figure()\n",
    "lw = 2\n",
    "ordered_models = [k for k, v in sorted(medians.items(), key=lambda item: item[1], reverse=True)]\n",
    "\n",
    "for model in ordered_models:\n",
    "    if 'regex' in model:\n",
    "        continue\n",
    "    plt.plot([float(x) for x in fprs[model].split('$')], [float(x) for x in tprs[model].split('$')],\n",
    "             lw=lw, label='ROC curve {} (area = %0.2f [%0.2f - %0.2f])'.format(model.replace('_', ' ')) % (medians[model], icmin[model], icmax[model]))\n",
    "plt.plot([float(x) for x in fprs['regex'].split('$')], [float(x) for x in tprs['regex'].split('$')], color = 'grey',\n",
    "             lw=lw, label='ROC curve {} (area = %0.2f [%0.2f - %0.2f])'.format('regex') % (medians['regex'], icmin['regex'], icmax['regex']))\n",
    "plt.plot([0, 1], [0, 1], color='black', lw=lw, linestyle='--')\n",
    "plt.xlim([0.0, 1.0])\n",
    "plt.ylim([0.0, 1.0])\n",
    "plt.xlabel('False Positive Rate', fontsize=14)\n",
    "\n",
    "plt.ylabel('True Positive Rate', fontsize=14)\n",
    "plt.title('Receiver operating characteristic curves', fontsize=18)\n",
    "plt.legend(loc=\"lower right\")\n",
    "plt.savefig('roc_auc', dpi=None, facecolor='w', edgecolor='w')\n",
    "plt.show()"
   ]
  },
  {
   "cell_type": "markdown",
   "metadata": {},
   "source": [
    "## Plotting the F1 score with CI"
   ]
  },
  {
   "cell_type": "code",
   "execution_count": null,
   "metadata": {},
   "outputs": [],
   "source": [
    "ci_inf = []\n",
    "ci_sup = []\n",
    "meds = []\n",
    "for model in ordered_models:\n",
    "    per = np.percentile(res_dict[model][\"f1\"][:1000], [2.5, 50, 97.5])\n",
    "    ci_inf.append(per[0])\n",
    "    meds.append(per[1])\n",
    "    ci_sup.append(per[2])\n",
    "\n",
    "ci_inf = np.array(ci_inf)\n",
    "meds = np.array(meds)\n",
    "ci_sup = np.array(ci_sup)"
   ]
  },
  {
   "cell_type": "code",
   "execution_count": null,
   "metadata": {},
   "outputs": [],
   "source": [
    "# get the range of the confidence interval\n",
    "legend = [\n",
    "    'lgbm + regex',\n",
    "     'lgbm',\n",
    "     'logit',\n",
    "     'svm',\n",
    "     'random forests',\n",
    "     'regex'\n",
    "]\n",
    "yerr = np.c_[meds-ci_inf,ci_sup-meds ].T\n",
    "bar = plt.bar(\n",
    "    range(len(ordered_models_wo_lstmrx)),\n",
    "    meds, yerr=yerr,\n",
    "    error_kw={\"capsize\":3, \"elinewidth\":1, \"markeredgewidth\":1},\n",
    "    alpha=0.8,\n",
    "    align='center',\n",
    "    color=['C0', 'C0', 'C1', 'C2', 'C3', 'C4', 'C5', 'C6', 'grey']\n",
    ")\n",
    "bar[0].set_hatch('/')\n",
    "plt.xticks(range(len(ordered_models_wo_lstmrx)), legend, fontsize=12, rotation=45)\n",
    "plt.title('F1 with 95% confidence intervals', fontsize=18)\n",
    "plt.savefig('f1_ci', dpi=None, facecolor='w', edgecolor='w')\n",
    "plt.show()"
   ]
  }
 ],
 "metadata": {
  "kernelspec": {
   "display_name": "Python 3",
   "language": "python",
   "name": "python3"
  },
  "language_info": {
   "codemirror_mode": {
    "name": "ipython",
    "version": 3
   },
   "file_extension": ".py",
   "mimetype": "text/x-python",
   "name": "python",
   "nbconvert_exporter": "python",
   "pygments_lexer": "ipython3",
   "version": "3.7.0"
  }
 },
 "nbformat": 4,
 "nbformat_minor": 4
}
