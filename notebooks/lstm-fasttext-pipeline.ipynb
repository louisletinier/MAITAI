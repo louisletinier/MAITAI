{
 "cells": [
  {
   "cell_type": "code",
   "execution_count": null,
   "metadata": {},
   "outputs": [],
   "source": [
    "import os, re, csv, sys, codecs, pickle\n",
    "from datetime import datetime\n",
    "\n",
    "from unidecode import unidecode\n",
    "import numpy as np\n",
    "import seaborn as sns\n",
    "import matplotlib.pyplot as plt\n",
    "\n",
    "import keras\n",
    "from keras import optimizers\n",
    "from keras import backend as K\n",
    "from keras import regularizers\n",
    "from keras.models import Sequential\n",
    "from keras.layers import Dense, Activation, Dropout, Flatten, LSTM\n",
    "from keras.layers import Embedding, Conv1D, MaxPooling1D, GlobalMaxPooling1D \n",
    "from keras.utils import plot_model\n",
    "from keras.preprocessing import sequence\n",
    "from keras.preprocessing.text import Tokenizer\n",
    "from keras.callbacks import EarlyStopping\n",
    "\n",
    "from tqdm import tqdm\n",
    "from nltk.corpus import stopwords\n",
    "from nltk.tokenize import RegexpTokenizer \n",
    "from nltk.tokenize import word_tokenize\n",
    "from nltk.stem.snowball import FrenchStemmer, SnowballStemmer\n",
    "import livelossplot\n",
    "from sklearn.model_selection import train_test_split\n",
    "from sklearn.metrics import confusion_matrix\n",
    "from sklearn.metrics import roc_curve, auc, precision_recall_curve\n",
    "from sklearn.preprocessing import MultiLabelBinarizer\n",
    "\n",
    "sys.path.append('../utils')\n",
    "from utils import *\n",
    "\n",
    "%matplotlib inline\n",
    "plt.rcParams[\"figure.figsize\"] = (15,10)"
   ]
  },
  {
   "cell_type": "code",
   "execution_count": 2,
   "metadata": {},
   "outputs": [],
   "source": [
    "# parameters\n",
    "level = 'PT'\n",
    "min_occurence = 10"
   ]
  },
  {
   "cell_type": "code",
   "execution_count": 3,
   "metadata": {},
   "outputs": [],
   "source": [
    "if level == 'HLT':\n",
    "    with open('hlt_counts.pkl', 'rb') as file:\n",
    "        tag_counts = pickle.load(file)\n",
    "elif level == 'PT':  \n",
    "    with open('pt_counts.pkl', 'rb') as file:\n",
    "        tag_counts = pickle.load(file)\n",
    "else:\n",
    "    raise ValueError('bad level \"{}\", \"PT\" or \"HLT\" expected'.format(level))"
   ]
  },
  {
   "cell_type": "markdown",
   "metadata": {},
   "source": [
    "## data processing"
   ]
  },
  {
   "cell_type": "code",
   "execution_count": 4,
   "metadata": {},
   "outputs": [
    {
     "name": "stdout",
     "output_type": "stream",
     "text": [
      "error computing imc\n",
      "error computing imc\n"
     ]
    }
   ],
   "source": [
    "with open('dataset.pkl', 'rb') as file:\n",
    "    data = pickle.load(file)\n",
    "    \n",
    "with open('tags.pkl', 'rb') as file:\n",
    "    tags = pickle.load(file)\n",
    "if level == 'HLT':   \n",
    "    tags = dict(zip(tags[\"Cas CRPV\"].values, [[s for s in pt_to_hlt(t) if tag_counts[s]>=min_occurence] for t in tags[\"PT\"].values]))\n",
    "else:\n",
    "    tags = dict(zip(tags[\"Cas CRPV\"].values, [[s for s in t if tag_counts[s]>=min_occurence] for t in tags[\"PT\"].values]))\n",
    "    \n",
    "X = []\n",
    "Y = []\n",
    "ctr = 0\n",
    "for k, df in data.items():\n",
    "    try:\n",
    "        Y.append(tags[k])\n",
    "        feat = get_features(df[1])\n",
    "        X.append(' '.join([feat[0], 5*feat[3]]))\n",
    "    except:\n",
    "        ctr += 1\n",
    "\n",
    "tag_binarizer = MultiLabelBinarizer()\n"
   ]
  },
  {
   "cell_type": "code",
   "execution_count": null,
   "metadata": {},
   "outputs": [],
   "source": [
    "\"\"\"\n",
    "'dataset.pkl' contains your dataset of features, it is a dict with unique key corresponding to each case.\n",
    "\"\"\"\n",
    "with open('dataset.pkl', 'rb') as file:\n",
    "    data = pickle.load(file)\n",
    "    \n",
    "\"\"\"\n",
    "'regex_match.pkl' contains meddra terms matched to each case using a regex engine.\n",
    "    it is a dict with the same key as for 'dataset.pkl'.\n",
    "\"\"\"\n",
    "with open('regex_match.pkl', 'rb') as file:\n",
    "    regex_match = pickle.load(file)\n",
    "\n",
    "\"\"\"\n",
    "'tags.pkl' contains the meddra tags that correspond to your dataset, it is a dict with the same key as for 'dataset.pkl'.\n",
    "    We only keep the most common terms (i.e with number of occurences greater than the min_occurence parameter.)\n",
    "\"\"\" \n",
    "with open('tags.pkl', 'rb') as file:\n",
    "    tags = pickle.load(file)\n",
    "    \n",
    "X = []\n",
    "Y = []\n",
    "re_match = []\n",
    "\"\"\"\n",
    "    We build the X and Y arrays from our features and tags.\n",
    "    X components are tokenized text contents of the case report forms,\n",
    "    it does not need to be vectorized at this time of the pipeline.\n",
    "\"\"\"\n",
    "for key, value in data.items():\n",
    "    X.append(value)\n",
    "    Y.append(tags[key])\n",
    "    re_match.append(regex_match[key])"
   ]
  },
  {
   "cell_type": "markdown",
   "metadata": {},
   "source": [
    "## Test - train split"
   ]
  },
  {
   "cell_type": "code",
   "execution_count": 6,
   "metadata": {},
   "outputs": [],
   "source": [
    "X_train, X_test, Y_train, Y_test, regex_train, regex_test = train_test_split(X, Y, re_match, test_size=0.2, random_state=42)"
   ]
  },
  {
   "cell_type": "markdown",
   "metadata": {},
   "source": [
    "## Tags binarization and TF-IDF"
   ]
  },
  {
   "cell_type": "code",
   "execution_count": null,
   "metadata": {},
   "outputs": [],
   "source": [
    "Y_train = tag_binarizer.fit_transform(Y_train)\n",
    "Y_test = tag_binarizer.transform(Y_test)\n",
    "\n",
    "regex_test_bin = tag_binarizer.transform(regex_test)\n",
    "regex_test_filtered = [[s for s in l if s in tag_counts.keys() and tag_counts[s] >= min_occurence] for l in regex_test]"
   ]
  },
  {
   "cell_type": "code",
   "execution_count": 14,
   "metadata": {},
   "outputs": [],
   "source": [
    "tokenizer = Tokenizer()\n",
    "tokenizer.fit_on_texts(X_train)\n",
    "\n",
    "\"\"\"\n",
    "    We turn the text features into sequences to it the input format expected by the LSTM.\n",
    "\"\"\"\n",
    "X_train_seq = tokenizer.texts_to_sequences(X_train)\n",
    "X_test_seq = tokenizer.texts_to_sequences(X_test)"
   ]
  },
  {
   "cell_type": "code",
   "execution_count": null,
   "metadata": {},
   "outputs": [],
   "source": [
    "np.random.seed(0)\n",
    "\n",
    "EMBEDDING_PATH = 'path_to_your_pre-trained_fasttext_embedding'\n",
    "\n",
    "MAX_NB_WORDS = 100000\n",
    "tokenizer = RegexpTokenizer(r'\\w+')\n",
    "stop_words = set(stopwords.words('french'))\n",
    "stop_words.update(['.', ',', '\"', \"'\", ':', ';', '(', ')', '[', ']', '{', '}'])\n",
    "\n",
    "\"\"\"\n",
    "    loading embeddings\n",
    "\"\"\"\n",
    "embeddings_index = {}\n",
    "f = codecs.open(\n",
    "    EMBEDDING_PATH,\n",
    "    encoding='utf-8'\n",
    ")\n",
    "for line in tqdm(f):\n",
    "    values = line.rstrip().rsplit(' ')\n",
    "    word = values[0]\n",
    "    coefs = np.asarray(values[1:], dtype='float32')\n",
    "    embeddings_index[word] = coefs\n",
    "f.close()\n",
    "print('found %s word vectors' % len(embeddings_index))"
   ]
  },
  {
   "cell_type": "code",
   "execution_count": null,
   "metadata": {},
   "outputs": [],
   "source": [
    "\"\"\"\n",
    "    Preparing text data.\n",
    "\"\"\"\n",
    "processed_docs_train = []\n",
    "for doc in tqdm(X_train):\n",
    "    tokens = tokenizer.tokenize(doc)\n",
    "    filtered = [word for word in tokens if word not in stop_words]\n",
    "    processed_docs_train.append(\" \".join(filtered))\n",
    "\n",
    "processed_docs_test = []\n",
    "for doc in tqdm(X_test):\n",
    "    tokens = tokenizer.tokenize(doc)\n",
    "    filtered = [word for word in tokens if word not in stop_words]\n",
    "    processed_docs_test.append(\" \".join(filtered))"
   ]
  },
  {
   "cell_type": "code",
   "execution_count": 17,
   "metadata": {},
   "outputs": [
    {
     "name": "stdout",
     "output_type": "stream",
     "text": [
      "tokenizing input data...\n",
      "dictionary size:  3917\n"
     ]
    }
   ],
   "source": [
    "max_seq_len = 150\n",
    "print(\"tokenizing input data...\")\n",
    "tokenizer = Tokenizer(num_words=MAX_NB_WORDS, lower=True, char_level=False)\n",
    "tokenizer.fit_on_texts(processed_docs_train + processed_docs_test)  #leaky\n",
    "word_seq_train = tokenizer.texts_to_sequences(processed_docs_train)\n",
    "word_seq_test = tokenizer.texts_to_sequences(processed_docs_test)\n",
    "word_index = tokenizer.word_index\n",
    "print(\"dictionary size: \", len(word_index))\n",
    "\n",
    "#pad sequences\n",
    "word_seq_train = sequence.pad_sequences(word_seq_train, maxlen=max_seq_len)\n",
    "word_seq_test = sequence.pad_sequences(word_seq_test, maxlen=max_seq_len)\n"
   ]
  },
  {
   "cell_type": "markdown",
   "metadata": {},
   "source": [
    "## Computing fasttext embedding"
   ]
  },
  {
   "cell_type": "code",
   "execution_count": 18,
   "metadata": {},
   "outputs": [],
   "source": [
    "# training params\n",
    "batch_size = 256 \n",
    "num_epochs = 100\n",
    "\n",
    "# model parameters\n",
    "num_filters = 64 \n",
    "embed_dim = 100 \n",
    "weight_decay = 1e-4"
   ]
  },
  {
   "cell_type": "code",
   "execution_count": 19,
   "metadata": {},
   "outputs": [
    {
     "name": "stdout",
     "output_type": "stream",
     "text": [
      "preparing embedding matrix...\n",
      "number of null word embeddings: 2130\n"
     ]
    }
   ],
   "source": [
    "\"\"\"\n",
    "    preparing embedding matrix...\n",
    "\"\"\"\n",
    "words_not_found = []\n",
    "nb_words = min(MAX_NB_WORDS, len(word_index))\n",
    "embedding_matrix = np.zeros((nb_words, embed_dim))\n",
    "for word, i in word_index.items():\n",
    "    if i >= nb_words:\n",
    "        continue\n",
    "    embedding_vector = embeddings_index.get(word)\n",
    "    if (embedding_vector is not None) and len(embedding_vector) > 0:\n",
    "        # words not found in embedding index will be all-zeros.\n",
    "        embedding_matrix[i] = embedding_vector\n",
    "    else:\n",
    "        words_not_found.append(word)\n",
    "print('number of null word embeddings: %d' % np.sum(np.sum(embedding_matrix, axis=1) == 0))"
   ]
  },
  {
   "cell_type": "markdown",
   "metadata": {},
   "source": [
    "## Models training"
   ]
  },
  {
   "cell_type": "code",
   "execution_count": 20,
   "metadata": {},
   "outputs": [
    {
     "name": "stdout",
     "output_type": "stream",
     "text": [
      "WARNING:tensorflow:From /home/julien/.virtualenvs/chu/lib/python3.6/site-packages/tensorflow/python/framework/op_def_library.py:263: colocate_with (from tensorflow.python.framework.ops) is deprecated and will be removed in a future version.\n",
      "Instructions for updating:\n",
      "Colocations handled automatically by placer.\n",
      "WARNING:tensorflow:From /home/julien/.virtualenvs/chu/lib/python3.6/site-packages/keras/backend/tensorflow_backend.py:3445: calling dropout (from tensorflow.python.ops.nn_ops) with keep_prob is deprecated and will be removed in a future version.\n",
      "Instructions for updating:\n",
      "Please use `rate` instead of `keep_prob`. Rate should be set to `rate = 1 - keep_prob`.\n",
      "_________________________________________________________________\n",
      "Layer (type)                 Output Shape              Param #   \n",
      "=================================================================\n",
      "embedding_1 (Embedding)      (None, 150, 100)          391700    \n",
      "_________________________________________________________________\n",
      "dropout_1 (Dropout)          (None, 150, 100)          0         \n",
      "_________________________________________________________________\n",
      "lstm_1 (LSTM)                (None, 60)                38640     \n",
      "_________________________________________________________________\n",
      "dropout_2 (Dropout)          (None, 60)                0         \n",
      "_________________________________________________________________\n",
      "dense_1 (Dense)              (None, 125)               7625      \n",
      "=================================================================\n",
      "Total params: 437,965\n",
      "Trainable params: 437,965\n",
      "Non-trainable params: 0\n",
      "_________________________________________________________________\n",
      "None\n"
     ]
    }
   ],
   "source": [
    "\"\"\"\n",
    "    Defining the model architecture.\n",
    "\"\"\"\n",
    "model = Sequential()\n",
    "model.add(Embedding(nb_words, embed_dim, weights=[embedding_matrix],\n",
    "          input_length=max_seq_len, trainable=True))\n",
    "model.add(Dropout(0.2))\n",
    "model.add(LSTM(60))\n",
    "model.add(Dropout(0.2))\n",
    "model.add(Dense(nb_class, activation='sigmoid'))\n",
    "\n",
    "adam = optimizers.Adam(lr=0.001, beta_1=0.9, beta_2=0.999, epsilon=1e-08, decay=0.0)\n",
    "model.compile(loss='categorical_crossentropy', optimizer=adam, metrics=['accuracy'])\n",
    "print(model.summary())"
   ]
  },
  {
   "cell_type": "code",
   "execution_count": 21,
   "metadata": {},
   "outputs": [
    {
     "name": "stdout",
     "output_type": "stream",
     "text": [
      "WARNING:tensorflow:From /home/julien/.virtualenvs/chu/lib/python3.6/site-packages/tensorflow/python/ops/math_ops.py:3066: to_int32 (from tensorflow.python.ops.math_ops) is deprecated and will be removed in a future version.\n",
      "Instructions for updating:\n",
      "Use tf.cast instead.\n",
      "Train on 1481 samples, validate on 165 samples\n",
      "Epoch 1/50\n",
      " - 12s - loss: 22.2960 - acc: 0.2046 - val_loss: 20.7110 - val_acc: 0.2061\n",
      "Epoch 2/50\n",
      " - 11s - loss: 20.9741 - acc: 0.2221 - val_loss: 20.5087 - val_acc: 0.2061\n",
      "Epoch 3/50\n",
      " - 11s - loss: 20.8716 - acc: 0.2228 - val_loss: 20.4329 - val_acc: 0.2061\n",
      "Epoch 4/50\n",
      " - 11s - loss: 20.6877 - acc: 0.2235 - val_loss: 20.2647 - val_acc: 0.2061\n",
      "Epoch 5/50\n",
      " - 11s - loss: 20.5165 - acc: 0.2242 - val_loss: 20.1252 - val_acc: 0.2061\n",
      "Epoch 6/50\n",
      " - 12s - loss: 20.3618 - acc: 0.2242 - val_loss: 20.0648 - val_acc: 0.2061\n",
      "Epoch 7/50\n",
      " - 11s - loss: 20.2700 - acc: 0.2242 - val_loss: 19.9806 - val_acc: 0.2061\n",
      "Epoch 8/50\n",
      " - 11s - loss: 20.1813 - acc: 0.2242 - val_loss: 19.9471 - val_acc: 0.2061\n",
      "Epoch 9/50\n",
      " - 12s - loss: 20.0860 - acc: 0.2242 - val_loss: 19.8863 - val_acc: 0.2061\n",
      "Epoch 10/50\n",
      " - 11s - loss: 20.0201 - acc: 0.2242 - val_loss: 19.8674 - val_acc: 0.2061\n",
      "Epoch 11/50\n",
      " - 11s - loss: 19.9110 - acc: 0.2242 - val_loss: 19.7790 - val_acc: 0.2061\n",
      "Epoch 12/50\n",
      " - 11s - loss: 19.8081 - acc: 0.2242 - val_loss: 19.7561 - val_acc: 0.2061\n",
      "Epoch 13/50\n",
      " - 11s - loss: 19.7490 - acc: 0.2242 - val_loss: 19.7305 - val_acc: 0.2061\n",
      "Epoch 14/50\n",
      " - 11s - loss: 19.6500 - acc: 0.2242 - val_loss: 19.7155 - val_acc: 0.2061\n",
      "Epoch 15/50\n",
      " - 11s - loss: 19.5998 - acc: 0.2242 - val_loss: 19.6936 - val_acc: 0.2061\n",
      "Epoch 16/50\n",
      " - 12s - loss: 19.5493 - acc: 0.2242 - val_loss: 19.6892 - val_acc: 0.2061\n",
      "Epoch 17/50\n",
      " - 13s - loss: 19.4835 - acc: 0.2255 - val_loss: 19.6752 - val_acc: 0.2121\n",
      "Epoch 18/50\n",
      " - 13s - loss: 19.4092 - acc: 0.2282 - val_loss: 19.6561 - val_acc: 0.2303\n",
      "Epoch 19/50\n",
      " - 12s - loss: 19.3715 - acc: 0.2316 - val_loss: 19.6364 - val_acc: 0.2424\n",
      "Epoch 20/50\n",
      " - 13s - loss: 19.2992 - acc: 0.2363 - val_loss: 19.6451 - val_acc: 0.2424\n",
      "Epoch 21/50\n",
      " - 13s - loss: 19.2510 - acc: 0.2336 - val_loss: 19.5868 - val_acc: 0.2485\n",
      "Epoch 22/50\n",
      " - 12s - loss: 19.1833 - acc: 0.2316 - val_loss: 19.6029 - val_acc: 0.2364\n",
      "Epoch 23/50\n",
      " - 12s - loss: 19.1458 - acc: 0.2397 - val_loss: 19.5841 - val_acc: 0.2364\n",
      "Epoch 24/50\n",
      " - 12s - loss: 19.0678 - acc: 0.2330 - val_loss: 19.5848 - val_acc: 0.2424\n",
      "Epoch 25/50\n",
      " - 12s - loss: 19.0079 - acc: 0.2302 - val_loss: 19.5369 - val_acc: 0.2424\n",
      "Epoch 26/50\n",
      " - 12s - loss: 18.9270 - acc: 0.2330 - val_loss: 19.5316 - val_acc: 0.2485\n",
      "Epoch 27/50\n",
      " - 13s - loss: 18.8491 - acc: 0.2330 - val_loss: 19.4945 - val_acc: 0.2424\n",
      "Epoch 28/50\n",
      " - 12s - loss: 18.7513 - acc: 0.2302 - val_loss: 19.5076 - val_acc: 0.2364\n",
      "Epoch 29/50\n",
      " - 13s - loss: 18.6798 - acc: 0.2282 - val_loss: 19.4576 - val_acc: 0.2424\n",
      "Epoch 30/50\n",
      " - 12s - loss: 18.5888 - acc: 0.2323 - val_loss: 19.3829 - val_acc: 0.2485\n",
      "Epoch 31/50\n",
      " - 13s - loss: 18.5109 - acc: 0.2330 - val_loss: 19.4309 - val_acc: 0.2364\n",
      "Epoch 32/50\n",
      " - 12s - loss: 18.4151 - acc: 0.2357 - val_loss: 19.4117 - val_acc: 0.2424\n",
      "Epoch 33/50\n",
      " - 13s - loss: 18.3500 - acc: 0.2357 - val_loss: 19.3624 - val_acc: 0.2364\n",
      "Epoch 34/50\n",
      " - 12s - loss: 18.2162 - acc: 0.2377 - val_loss: 19.3494 - val_acc: 0.2303\n",
      "Epoch 35/50\n",
      " - 12s - loss: 18.1327 - acc: 0.2417 - val_loss: 19.2519 - val_acc: 0.2364\n",
      "Epoch 36/50\n",
      " - 12s - loss: 18.0301 - acc: 0.2302 - val_loss: 19.2548 - val_acc: 0.2424\n",
      "Epoch 37/50\n",
      " - 12s - loss: 17.9328 - acc: 0.2316 - val_loss: 19.2658 - val_acc: 0.2606\n",
      "Epoch 38/50\n",
      " - 12s - loss: 17.8449 - acc: 0.2519 - val_loss: 19.1666 - val_acc: 0.2606\n",
      "Epoch 39/50\n",
      " - 12s - loss: 17.7031 - acc: 0.2532 - val_loss: 19.1244 - val_acc: 0.2485\n",
      "Epoch 40/50\n",
      " - 12s - loss: 17.6422 - acc: 0.2586 - val_loss: 19.0558 - val_acc: 0.2242\n",
      "Epoch 41/50\n",
      " - 12s - loss: 17.4972 - acc: 0.2593 - val_loss: 19.0989 - val_acc: 0.2303\n",
      "Epoch 42/50\n",
      " - 12s - loss: 17.3892 - acc: 0.2674 - val_loss: 18.9849 - val_acc: 0.2485\n",
      "Epoch 43/50\n",
      " - 12s - loss: 17.3220 - acc: 0.2593 - val_loss: 18.9211 - val_acc: 0.2424\n",
      "Epoch 44/50\n",
      " - 12s - loss: 17.2127 - acc: 0.2714 - val_loss: 18.9923 - val_acc: 0.2242\n",
      "Epoch 45/50\n",
      " - 13s - loss: 17.0885 - acc: 0.2687 - val_loss: 18.9828 - val_acc: 0.2303\n",
      "Epoch 46/50\n",
      " - 12s - loss: 17.0567 - acc: 0.2762 - val_loss: 18.9073 - val_acc: 0.1939\n",
      "Epoch 47/50\n",
      " - 13s - loss: 16.9008 - acc: 0.2606 - val_loss: 18.8427 - val_acc: 0.2364\n",
      "Epoch 48/50\n",
      " - 12s - loss: 16.8103 - acc: 0.2687 - val_loss: 18.8809 - val_acc: 0.2242\n",
      "Epoch 49/50\n",
      " - 12s - loss: 16.7823 - acc: 0.2768 - val_loss: 18.8742 - val_acc: 0.2727\n",
      "Epoch 50/50\n",
      " - 13s - loss: 16.6757 - acc: 0.2836 - val_loss: 18.8757 - val_acc: 0.2424\n",
      "Accuracy: 25.24%\n"
     ]
    }
   ],
   "source": [
    "\"\"\"\n",
    "    Training\n",
    "\"\"\"\n",
    "early_stopping = EarlyStopping(monitor='val_loss', min_delta=0.01, patience=4, verbose=1)\n",
    "callbacks_list = []#[early_stopping]\n",
    "\n",
    "history = model.fit(word_seq_train, Y_train, epochs=50, batch_size=16, callbacks=callbacks_list, validation_split=0.1, shuffle=True, verbose=2)\n",
    "# Final evaluation of the model\n",
    "scores = model.evaluate(word_seq_test, Y_test, verbose=0)\n",
    "print(\"Accuracy: %.2f%%\" % (scores[1]*100))"
   ]
  },
  {
   "cell_type": "code",
   "execution_count": 22,
   "metadata": {},
   "outputs": [],
   "source": [
    "\"\"\"\n",
    "    Predictions on the test set\n",
    "\"\"\"\n",
    "pred = model.predict_proba(word_seq_test)\n",
    "pred_flat = np.hstack(pred)"
   ]
  },
  {
   "cell_type": "code",
   "execution_count": 18,
   "metadata": {},
   "outputs": [
    {
     "data": {
      "image/png": "[encoded data removed]",
      "text/plain": [
       "<Figure size 432x288 with 1 Axes>"
      ]
     },
     "metadata": {
      "needs_background": "light"
     },
     "output_type": "display_data"
    }
   ],
   "source": [
    "#generate plots\n",
    "plt.figure()\n",
    "plt.plot(history.history['loss'], lw=2.0, color='b', label='train')\n",
    "plt.plot(history.history['val_loss'], lw=2.0, color='r', label='val')\n",
    "plt.title('LSTM + fasttext embedding')\n",
    "plt.xlabel('Epochs')\n",
    "plt.ylabel('Cross-Entropy Loss')\n",
    "plt.legend(loc='upper right')\n",
    "plt.show()"
   ]
  },
  {
   "cell_type": "markdown",
   "metadata": {},
   "source": [
    "## ROC curves and AUC"
   ]
  },
  {
   "cell_type": "code",
   "execution_count": 20,
   "metadata": {},
   "outputs": [
    {
     "data": {
      "image/png": "[encoded data removed]",
      "text/plain": [
       "<Figure size 432x288 with 1 Axes>"
      ]
     },
     "metadata": {
      "needs_background": "light"
     },
     "output_type": "display_data"
    }
   ],
   "source": [
    "fpr, tpr, _ = roc_curve(Y_test.flatten('C'), pred_flat)\n",
    "roc_auc = auc(fpr, tpr)\n",
    "\n",
    "plt.figure()\n",
    "lw = 2\n",
    "plt.plot(fpr, tpr, color='darkorange',\n",
    "         lw=lw, label='ROC curve LSTM (area = %0.2f)' % roc_auc)\n",
    "plt.plot([0, 1], [0, 1], color='navy', lw=lw, linestyle='--')\n",
    "plt.xlim([0.0, 1.0])\n",
    "plt.ylim([0.0, 1.05])\n",
    "plt.xlabel('False Positive Rate')\n",
    "\n",
    "plt.ylabel('True Positive Rate')\n",
    "plt.title('Receiver operating characteristic')\n",
    "plt.legend(loc=\"lower right\")\n",
    "plt.show()"
   ]
  },
  {
   "cell_type": "markdown",
   "metadata": {},
   "source": [
    "## Precision - recall per model"
   ]
  },
  {
   "cell_type": "code",
   "execution_count": 21,
   "metadata": {},
   "outputs": [
    {
     "data": {
      "image/png": "[encoded data removed]",
      "text/plain": [
       "<Figure size 432x288 with 1 Axes>"
      ]
     },
     "metadata": {
      "needs_background": "light"
     },
     "output_type": "display_data"
    }
   ],
   "source": [
    "p, r, t = precision_recall_curve(Y_test.flatten('C'), pred_flat)\n",
    "plt.figure()\n",
    "lw = 2\n",
    "plt.plot([0]+list(t), p, color='darkorange',\n",
    "         lw=lw, label='precision')\n",
    "plt.plot([0]+list(t), r, color='green',\n",
    "         lw=lw, label='recall')\n",
    "plt.xlabel('Threshold')\n",
    "plt.ylabel('True Positive Rate')\n",
    "plt.title('Precision - recall')\n",
    "plt.legend(loc=\"lower right\")\n",
    "plt.show()"
   ]
  },
  {
   "cell_type": "code",
   "execution_count": 22,
   "metadata": {},
   "outputs": [
    {
     "data": {
      "text/plain": [
       "(0.39328808446455504, 1043, 1207, 2011, 47239, 0.18967676)"
      ]
     },
     "execution_count": 22,
     "metadata": {},
     "output_type": "execute_result"
    }
   ],
   "source": [
    "F1 = 2 * (p * r) / (p + r)\n",
    "F1 = [x if x==x else 0 for x in F1]\n",
    "th = t[np.argmax(F1)]\n",
    "tn, fp, fn, tp = confusion_matrix(Y_test.flatten('C'), [0 if x < th else 1 for x in pred_flat]).ravel()\n",
    "max(F1), tp, fn, fp, tn, th"
   ]
  }
 ],
 "metadata": {
  "kernelspec": {
   "display_name": "Python 3",
   "language": "python",
   "name": "python3"
  },
  "language_info": {
   "codemirror_mode": {
    "name": "ipython",
    "version": 3
   },
   "file_extension": ".py",
   "mimetype": "text/x-python",
   "name": "python",
   "nbconvert_exporter": "python",
   "pygments_lexer": "ipython3",
   "version": "3.7.0"
  }
 },
 "nbformat": 4,
 "nbformat_minor": 4
}
